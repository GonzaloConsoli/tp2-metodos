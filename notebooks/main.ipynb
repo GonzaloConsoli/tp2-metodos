{
 "cells": [
  {
   "cell_type": "markdown",
   "metadata": {
    "id": "aCKND09zxavl"
   },
   "source": [
    "# Análisis de Sentimiento con KNN y PCA\n",
    "\n",
    "Vamos a usar el dataset de IMDB de [Maas et al(2011)](\n",
    "https://ai.stanford.edu/~amaas/data/sentiment/) \n"
   ]
  },
  {
   "cell_type": "code",
   "execution_count": 1,
   "metadata": {},
   "outputs": [],
   "source": [
    "import metnum\n",
    "import numpy as np"
   ]
  },
  {
   "cell_type": "code",
   "execution_count": null,
   "metadata": {},
   "outputs": [],
   "source": [
    "#const Matrix& A, unsigned num_iter, double eps\n",
    "\n",
    "A = np.matrix('5 0 0 0; 0 4 0 0; 0 0 3 0; 0 0 0 2')\n",
    "\n",
    "\n",
    "eigenval, eigenvec = metnum.power_iteration(A,5000,float(1e-16))"
   ]
  },
  {
   "cell_type": "code",
   "execution_count": null,
   "metadata": {},
   "outputs": [],
   "source": [
    "eigenvals, eigenvecs = metnum.get_first_eigenvalues(A,4)"
   ]
  },
  {
   "cell_type": "code",
   "execution_count": null,
   "metadata": {},
   "outputs": [],
   "source": [
    "eigenvecs"
   ]
  },
  {
   "cell_type": "code",
   "execution_count": null,
   "metadata": {},
   "outputs": [],
   "source": [
    "np.linalg.eig(A)"
   ]
  },
  {
   "cell_type": "code",
   "execution_count": 2,
   "metadata": {
    "colab": {
     "base_uri": "https://localhost:8080/"
    },
    "id": "x77gb_NyxYho",
    "outputId": "2e313d3f-7b1a-48cd-e72b-f1c4ff9db237"
   },
   "outputs": [],
   "source": [
    "from sklearn.datasets import fetch_openml\n",
    "# Load data from https://www.openml.org/d/554\n",
    "X_all, Y_all = fetch_openml('mnist_784', version=1, return_X_y=True, as_frame=False)\n",
    "\n",
    "# lo convierto a int\n",
    "Y_all = Y_all.astype(int)\n",
    "X_all = X_all.astype(int)\n",
    "\n",
    "x_train = X_all[:20000]\n",
    "y_train = Y_all[:20000]"
   ]
  },
  {
   "cell_type": "code",
   "execution_count": 16,
   "metadata": {},
   "outputs": [],
   "source": []
  },
  {
   "cell_type": "code",
   "execution_count": null,
   "metadata": {},
   "outputs": [],
   "source": [
    "A = np.matrix('1 6 4 9; 1 4 4 5; 1 900 203 4; 1 4 3 2')"
   ]
  },
  {
   "cell_type": "code",
   "execution_count": 8,
   "metadata": {},
   "outputs": [],
   "source": [
    "pca = metnum.PCA(25)\n",
    "pca.fit(x_train)"
   ]
  },
  {
   "cell_type": "code",
   "execution_count": 17,
   "metadata": {},
   "outputs": [],
   "source": [
    "#aaa = x_train @ pca.get_transformacion()"
   ]
  },
  {
   "cell_type": "code",
   "execution_count": 18,
   "metadata": {},
   "outputs": [
    {
     "data": {
      "text/plain": [
       "10"
      ]
     },
     "execution_count": 18,
     "metadata": {},
     "output_type": "execute_result"
    }
   ],
   "source": [
    "len(pca.get_transformacion()[1])"
   ]
  },
  {
   "cell_type": "code",
   "execution_count": 21,
   "metadata": {},
   "outputs": [],
   "source": [
    "aaa = pca.transform(x_train.T)"
   ]
  },
  {
   "cell_type": "code",
   "execution_count": 22,
   "metadata": {},
   "outputs": [
    {
     "data": {
      "text/plain": [
       "array([[ 102.87443135],\n",
       "       [ 497.53107626],\n",
       "       [ 862.60282671],\n",
       "       [-863.14404183],\n",
       "       [-469.46986779],\n",
       "       [-624.49866555],\n",
       "       [-730.70212431],\n",
       "       [ 101.38688218],\n",
       "       [ 336.90551777],\n",
       "       [ 362.79633276],\n",
       "       [ 259.96659568],\n",
       "       [-254.51696787],\n",
       "       [ 246.10673629],\n",
       "       [-144.58809518],\n",
       "       [ -31.78301783],\n",
       "       [ 177.04952719],\n",
       "       [-292.98214228],\n",
       "       [ 310.3947216 ],\n",
       "       [ 261.37769295],\n",
       "       [ 315.81877229],\n",
       "       [  45.18189208],\n",
       "       [ 170.45101843],\n",
       "       [  77.98147631],\n",
       "       [ -19.48468126],\n",
       "       [ -25.25042313]])"
      ]
     },
     "execution_count": 22,
     "metadata": {},
     "output_type": "execute_result"
    }
   ],
   "source": [
    "asd =X_all[40000]\n",
    "yy = pca.transform(asd)\n",
    "yy\n"
   ]
  },
  {
   "cell_type": "code",
   "execution_count": 25,
   "metadata": {},
   "outputs": [
    {
     "data": {
      "text/plain": [
       "20000"
      ]
     },
     "execution_count": 25,
     "metadata": {},
     "output_type": "execute_result"
    }
   ],
   "source": [
    "aaa= aaa.T\n",
    "len(aaa)"
   ]
  },
  {
   "cell_type": "code",
   "execution_count": 18,
   "metadata": {},
   "outputs": [
    {
     "data": {
      "text/plain": [
       "25"
      ]
     },
     "execution_count": 18,
     "metadata": {},
     "output_type": "execute_result"
    }
   ],
   "source": [
    "len(matenme[0])"
   ]
  },
  {
   "cell_type": "code",
   "execution_count": 24,
   "metadata": {},
   "outputs": [
    {
     "data": {
      "text/plain": [
       "784"
      ]
     },
     "execution_count": 24,
     "metadata": {},
     "output_type": "execute_result"
    }
   ],
   "source": [
    "len(X_all[40001])"
   ]
  },
  {
   "cell_type": "code",
   "execution_count": 26,
   "metadata": {},
   "outputs": [],
   "source": [
    "K = 10\n",
    "clf = metnum.KNNClassifier(K)\n",
    "clf.fit(aaa, y_train);"
   ]
  },
  {
   "cell_type": "code",
   "execution_count": 28,
   "metadata": {},
   "outputs": [
    {
     "data": {
      "text/plain": [
       "7"
      ]
     },
     "execution_count": 28,
     "metadata": {},
     "output_type": "execute_result"
    }
   ],
   "source": [
    "matenme = yy.T\n",
    "clf.predict_row(yy)"
   ]
  },
  {
   "cell_type": "code",
   "execution_count": null,
   "metadata": {},
   "outputs": [],
   "source": [
    "mm = x_train.T @ x_train"
   ]
  },
  {
   "cell_type": "code",
   "execution_count": null,
   "metadata": {},
   "outputs": [],
   "source": [
    "X = np.array(x_train - x_train.mean(axis=0))\n",
    "\n",
    "cov_matrix = X.T @ X / (X.shape[0]-1) "
   ]
  },
  {
   "cell_type": "markdown",
   "metadata": {
    "id": "jz3AcySp25VD"
   },
   "source": [
    "## Train y Test\n",
    "\n",
    "Nos vamos a quedar con una fracción de los datos para train y otra para test"
   ]
  },
  {
   "cell_type": "code",
   "execution_count": null,
   "metadata": {
    "colab": {
     "base_uri": "https://localhost:8080/"
    },
    "id": "JhJYdWnb3Lic",
    "outputId": "60e08805-0c97-4638-c81a-bddac2f91331"
   },
   "outputs": [],
   "source": [
    "import sklearn\n",
    "\n",
    "df_train = df[:10000]\n",
    "df_test = df[10000:13000]\n",
    "\n",
    "image_train, image_test = df_train.loc[:, df_train.columns != \"label\"], df_test.loc[:, df_test.columns != \"label\"]\n",
    "label_train, label_test = df_train[\"label\"], df_test[\"label\"]\n",
    "\n"
   ]
  },
  {
   "cell_type": "code",
   "execution_count": null,
   "metadata": {},
   "outputs": [],
   "source": [
    "image_train"
   ]
  },
  {
   "cell_type": "code",
   "execution_count": null,
   "metadata": {
    "colab": {
     "base_uri": "https://localhost:8080/"
    },
    "id": "jqBlZHPH55iO",
    "outputId": "d47d4010-2095-4556-ee2e-d9d214b7c7fe"
   },
   "outputs": [],
   "source": [
    "from sklearn.neighbors import KNeighborsClassifier\n",
    "\n",
    "clf = KNeighborsClassifier(n_neighbors=10)\n",
    "\n",
    "clf.fit(image_train, label_train)"
   ]
  },
  {
   "cell_type": "code",
   "execution_count": null,
   "metadata": {},
   "outputs": [],
   "source": [
    "image_test[-1::]\n",
    "label_test[-1::]"
   ]
  },
  {
   "cell_type": "code",
   "execution_count": null,
   "metadata": {
    "colab": {
     "base_uri": "https://localhost:8080/"
    },
    "id": "RjzpXkva6Am_",
    "outputId": "5a5b76de-0354-41d2-f96d-de195eb4f559"
   },
   "outputs": [],
   "source": [
    "\n",
    "y_pred = clf.predict(image_test[-1::])\n",
    "#acc = accuracy_score(y_test, y_pred)\n",
    "\n",
    "#print(\"Accuracy: {:.3f}\".format(acc))"
   ]
  },
  {
   "cell_type": "code",
   "execution_count": null,
   "metadata": {},
   "outputs": [],
   "source": [
    "y_pred"
   ]
  },
  {
   "cell_type": "markdown",
   "metadata": {
    "id": "E4u2V4-S6EQw"
   },
   "source": [
    "¿Podremos mejorarlo...?\n",
    "\n",
    "Veamos para varios valores de $k$ la performance del algoritmo"
   ]
  },
  {
   "cell_type": "code",
   "execution_count": null,
   "metadata": {
    "colab": {
     "base_uri": "https://localhost:8080/",
     "height": 49,
     "referenced_widgets": [
      "a96001fd009c452da0af3a5288387d47",
      "a4f641b2797d411687005a5031502e32",
      "c56e6794e8214afb92e2843d8e593d82",
      "24be14f1602e4213ba912b008b6c0c4b",
      "5e8fdd0670db4a83ad8cfa06828a69c9",
      "c0e30624163c4ddd829f93bc5d5bbebb",
      "8e204acc3756438eb6687f2240a1a1e0",
      "be463e38c644459e988eb632a896fc5b",
      "95e55b88ba654e9a996df19139117639",
      "a00d7d04f188421ab0b1f44a8648e617",
      "b260acd2cf5e4212a24eefb4dcfe066c"
     ]
    },
    "id": "DzNFxp5JDI8W",
    "outputId": "c4cf87a1-c926-4fbc-da0d-c4271ea8d2a9"
   },
   "outputs": [],
   "source": [
    "import matplotlib.pyplot as plt \n",
    "from tqdm.auto import tqdm\n",
    "\n",
    "results = []\n",
    "ks = range(2, 82, 4)\n",
    "\n",
    "for k in tqdm(ks):\n",
    "    clf = KNeighborsClassifier(n_neighbors=k)\n",
    "    clf.fit(X_train, y_train)\n",
    "\n",
    "    y_pred = clf.predict(X_test)\n",
    "    results.append(accuracy_score(y_test, y_pred))\n",
    "\n"
   ]
  },
  {
   "cell_type": "code",
   "execution_count": null,
   "metadata": {
    "colab": {
     "base_uri": "https://localhost:8080/",
     "height": 312
    },
    "id": "IXpfq3W8EWFE",
    "outputId": "6883885e-e0cc-4f93-98f9-e80d12fe83be"
   },
   "outputs": [],
   "source": [
    "plt.plot(ks, results, \"o-\")\n",
    "plt.xlabel(\"K\")\n",
    "plt.ylabel(\"Accuracy\")\n",
    "plt.title(\"Accuracy en test en función del valor de K\")"
   ]
  },
  {
   "cell_type": "markdown",
   "metadata": {
    "id": "PpSSXe9B_xvA"
   },
   "source": [
    "## Metodo de la potencia\n",
    "\n",
    "Vamos a hacer un pequeño intermezzo: vamos a ver cómo calcular autovalores y autovectores usando el método de la potencia\n",
    "\n",
    "Implementar las siguientes funciones (`power_iteration` y `eig`)"
   ]
  },
  {
   "cell_type": "code",
   "execution_count": null,
   "metadata": {
    "id": "z4lRE4Kn_zdZ"
   },
   "outputs": [],
   "source": [
    "import numpy as np\n",
    "\n",
    "def power_iteration(A, niter=10_000, eps=1e-6):\n",
    "    \"\"\"\n",
    "    Calcula el autovector al autovalor asociado de valor máximo\n",
    "    \n",
    "    \n",
    "    Devuelve (a, v) con a autovalor, y v autovector de A\n",
    "\n",
    "    Arguments:\n",
    "    ----------\n",
    "\n",
    "    A: np.array\n",
    "        Matriz de la cual quiero calcular el autovector y autovalor\n",
    "    \n",
    "    niter: int (> 0)\n",
    "        Cantidad de iteraciones\n",
    "\n",
    "    eps: Epsilon\n",
    "        Tolerancia utilizada en el criterio de parada\n",
    "    \"\"\"\n",
    "    \n",
    "    a = 1\n",
    "    v = np.ones(A.shape[0])\n",
    "    \"\"\"\n",
    "    TODO: Completar el método de la potencia\n",
    "\n",
    "    IMPORTANTE: Agreguen algún criterio de parada!\n",
    "    \"\"\"\n",
    "\n",
    "    for i in range(niter):\n",
    "        v= (A @ v) /  np.linalg.norm(A@v)\n",
    "\n",
    "        b = (v.T @ A @ v)/(v.T @ v)\n",
    "\n",
    "        if(abs(b-a)<eps): break\n",
    "\n",
    "        a=b\n",
    "\n",
    "\n",
    "    return a, v\n"
   ]
  },
  {
   "cell_type": "markdown",
   "metadata": {
    "id": "upagm4FzHD-C"
   },
   "source": [
    "Hagamos un ejemplo que ya vimos:\n",
    "\n",
    "$$\n",
    "A = Q^T \\begin{pmatrix}\n",
    "d_1    &0     &0      &0      &\\\\\n",
    "0      &d_2   &0      &0      &\\\\\n",
    "\\vdots &\\vdots&\\ddots &\\vdots &\\\\\n",
    "0      &0     &0      &d_n    & \\\\\n",
    "\\end{pmatrix} Q \n",
    "$$\n",
    "\n",
    "con $Q = I - 2 v v^T$, $||v||_2=1$\n",
    " la matriz de reflexión que sabemos que es ortogonal\n",
    "\n",
    "Probemos calcular el método de la potencia con esto"
   ]
  },
  {
   "cell_type": "code",
   "execution_count": null,
   "metadata": {
    "colab": {
     "base_uri": "https://localhost:8080/"
    },
    "id": "xGhKPPcm_5qB",
    "outputId": "1f5a5c29-160a-4c18-91be-c6b6f23fa610"
   },
   "outputs": [],
   "source": [
    "import numpy as np\n",
    "\n",
    "D = np.diag([5.0, 4.0, 3.0, 2.0, 1.0])\n",
    "\n",
    "v = np.ones((D.shape[0], 1))\n",
    "\n",
    "v = v / np.linalg.norm(v)\n",
    "\n",
    "# Matriz de Householder\n",
    "B = np.eye(D.shape[0]) - 2 * (v @ v.T)\n",
    "\n",
    "# Matriz ya diagonalizada\n",
    "M = B.T @ D @ B\n",
    "\n",
    "power_iteration(M)"
   ]
  },
  {
   "cell_type": "markdown",
   "metadata": {
    "id": "zSrfM-3FH8y3"
   },
   "source": [
    "### Metodo de la potencia + Deflación\n",
    "\n",
    "Implementar método de la potencia + deflación"
   ]
  },
  {
   "cell_type": "code",
   "execution_count": null,
   "metadata": {
    "id": "KWYuBwdtB9hA"
   },
   "outputs": [],
   "source": [
    "def eig(A, num=2, niter=10000, eps=1e-6):\n",
    "    \"\"\"\n",
    "    Calculamos num autovalores y autovectores usando método de la potencia+deflación\n",
    "    \"\"\"\n",
    "    A = A.copy()\n",
    "    eigenvalues = []\n",
    "    eigenvectors = np.zeros((A.shape[0], num))\n",
    "    for i in range(num):\n",
    "        eigenval, eigenvec = power_iteration(A,niter,eps)\n",
    "        eigenvalues.append(eigenval)\n",
    "        eigenvectors[i] = eigenvec\n",
    "        \n",
    "        A = A-(eigenval @ eigenvec @ eigenvec.T)\n",
    "        A = A[1:][1:]\n",
    "            \n",
    "    return np.array(eigenvalues), eigenvectors\n"
   ]
  },
  {
   "cell_type": "code",
   "execution_count": null,
   "metadata": {
    "id": "pGYFi1v3C1Ne"
   },
   "outputs": [],
   "source": []
  }
 ],
 "metadata": {
  "colab": {
   "collapsed_sections": [],
   "name": "NLP_+_Autovalores.ipynb",
   "provenance": []
  },
  "interpreter": {
   "hash": "694e23fcaedaab1a6c96f7113b47b8ce4fa67393aafb894fdcf915b50a44e520"
  },
  "kernelspec": {
   "display_name": "Python 3.10.4 ('tp2': venv)",
   "language": "python",
   "name": "python3"
  },
  "language_info": {
   "codemirror_mode": {
    "name": "ipython",
    "version": 3
   },
   "file_extension": ".py",
   "mimetype": "text/x-python",
   "name": "python",
   "nbconvert_exporter": "python",
   "pygments_lexer": "ipython3",
   "version": "3.10.4"
  },
  "widgets": {
   "application/vnd.jupyter.widget-state+json": {
    "24be14f1602e4213ba912b008b6c0c4b": {
     "model_module": "@jupyter-widgets/controls",
     "model_module_version": "1.5.0",
     "model_name": "FloatProgressModel",
     "state": {
      "_dom_classes": [],
      "_model_module": "@jupyter-widgets/controls",
      "_model_module_version": "1.5.0",
      "_model_name": "FloatProgressModel",
      "_view_count": null,
      "_view_module": "@jupyter-widgets/controls",
      "_view_module_version": "1.5.0",
      "_view_name": "ProgressView",
      "bar_style": "success",
      "description": "",
      "description_tooltip": null,
      "layout": "IPY_MODEL_95e55b88ba654e9a996df19139117639",
      "max": 20,
      "min": 0,
      "orientation": "horizontal",
      "style": "IPY_MODEL_be463e38c644459e988eb632a896fc5b",
      "value": 20
     }
    },
    "5e8fdd0670db4a83ad8cfa06828a69c9": {
     "model_module": "@jupyter-widgets/controls",
     "model_module_version": "1.5.0",
     "model_name": "HTMLModel",
     "state": {
      "_dom_classes": [],
      "_model_module": "@jupyter-widgets/controls",
      "_model_module_version": "1.5.0",
      "_model_name": "HTMLModel",
      "_view_count": null,
      "_view_module": "@jupyter-widgets/controls",
      "_view_module_version": "1.5.0",
      "_view_name": "HTMLView",
      "description": "",
      "description_tooltip": null,
      "layout": "IPY_MODEL_b260acd2cf5e4212a24eefb4dcfe066c",
      "placeholder": "​",
      "style": "IPY_MODEL_a00d7d04f188421ab0b1f44a8648e617",
      "value": " 20/20 [01:33&lt;00:00,  4.56s/it]"
     }
    },
    "8e204acc3756438eb6687f2240a1a1e0": {
     "model_module": "@jupyter-widgets/base",
     "model_module_version": "1.2.0",
     "model_name": "LayoutModel",
     "state": {
      "_model_module": "@jupyter-widgets/base",
      "_model_module_version": "1.2.0",
      "_model_name": "LayoutModel",
      "_view_count": null,
      "_view_module": "@jupyter-widgets/base",
      "_view_module_version": "1.2.0",
      "_view_name": "LayoutView",
      "align_content": null,
      "align_items": null,
      "align_self": null,
      "border": null,
      "bottom": null,
      "display": null,
      "flex": null,
      "flex_flow": null,
      "grid_area": null,
      "grid_auto_columns": null,
      "grid_auto_flow": null,
      "grid_auto_rows": null,
      "grid_column": null,
      "grid_gap": null,
      "grid_row": null,
      "grid_template_areas": null,
      "grid_template_columns": null,
      "grid_template_rows": null,
      "height": null,
      "justify_content": null,
      "justify_items": null,
      "left": null,
      "margin": null,
      "max_height": null,
      "max_width": null,
      "min_height": null,
      "min_width": null,
      "object_fit": null,
      "object_position": null,
      "order": null,
      "overflow": null,
      "overflow_x": null,
      "overflow_y": null,
      "padding": null,
      "right": null,
      "top": null,
      "visibility": null,
      "width": null
     }
    },
    "95e55b88ba654e9a996df19139117639": {
     "model_module": "@jupyter-widgets/base",
     "model_module_version": "1.2.0",
     "model_name": "LayoutModel",
     "state": {
      "_model_module": "@jupyter-widgets/base",
      "_model_module_version": "1.2.0",
      "_model_name": "LayoutModel",
      "_view_count": null,
      "_view_module": "@jupyter-widgets/base",
      "_view_module_version": "1.2.0",
      "_view_name": "LayoutView",
      "align_content": null,
      "align_items": null,
      "align_self": null,
      "border": null,
      "bottom": null,
      "display": null,
      "flex": null,
      "flex_flow": null,
      "grid_area": null,
      "grid_auto_columns": null,
      "grid_auto_flow": null,
      "grid_auto_rows": null,
      "grid_column": null,
      "grid_gap": null,
      "grid_row": null,
      "grid_template_areas": null,
      "grid_template_columns": null,
      "grid_template_rows": null,
      "height": null,
      "justify_content": null,
      "justify_items": null,
      "left": null,
      "margin": null,
      "max_height": null,
      "max_width": null,
      "min_height": null,
      "min_width": null,
      "object_fit": null,
      "object_position": null,
      "order": null,
      "overflow": null,
      "overflow_x": null,
      "overflow_y": null,
      "padding": null,
      "right": null,
      "top": null,
      "visibility": null,
      "width": null
     }
    },
    "a00d7d04f188421ab0b1f44a8648e617": {
     "model_module": "@jupyter-widgets/controls",
     "model_module_version": "1.5.0",
     "model_name": "DescriptionStyleModel",
     "state": {
      "_model_module": "@jupyter-widgets/controls",
      "_model_module_version": "1.5.0",
      "_model_name": "DescriptionStyleModel",
      "_view_count": null,
      "_view_module": "@jupyter-widgets/base",
      "_view_module_version": "1.2.0",
      "_view_name": "StyleView",
      "description_width": ""
     }
    },
    "a4f641b2797d411687005a5031502e32": {
     "model_module": "@jupyter-widgets/base",
     "model_module_version": "1.2.0",
     "model_name": "LayoutModel",
     "state": {
      "_model_module": "@jupyter-widgets/base",
      "_model_module_version": "1.2.0",
      "_model_name": "LayoutModel",
      "_view_count": null,
      "_view_module": "@jupyter-widgets/base",
      "_view_module_version": "1.2.0",
      "_view_name": "LayoutView",
      "align_content": null,
      "align_items": null,
      "align_self": null,
      "border": null,
      "bottom": null,
      "display": null,
      "flex": null,
      "flex_flow": null,
      "grid_area": null,
      "grid_auto_columns": null,
      "grid_auto_flow": null,
      "grid_auto_rows": null,
      "grid_column": null,
      "grid_gap": null,
      "grid_row": null,
      "grid_template_areas": null,
      "grid_template_columns": null,
      "grid_template_rows": null,
      "height": null,
      "justify_content": null,
      "justify_items": null,
      "left": null,
      "margin": null,
      "max_height": null,
      "max_width": null,
      "min_height": null,
      "min_width": null,
      "object_fit": null,
      "object_position": null,
      "order": null,
      "overflow": null,
      "overflow_x": null,
      "overflow_y": null,
      "padding": null,
      "right": null,
      "top": null,
      "visibility": null,
      "width": null
     }
    },
    "a96001fd009c452da0af3a5288387d47": {
     "model_module": "@jupyter-widgets/controls",
     "model_module_version": "1.5.0",
     "model_name": "HBoxModel",
     "state": {
      "_dom_classes": [],
      "_model_module": "@jupyter-widgets/controls",
      "_model_module_version": "1.5.0",
      "_model_name": "HBoxModel",
      "_view_count": null,
      "_view_module": "@jupyter-widgets/controls",
      "_view_module_version": "1.5.0",
      "_view_name": "HBoxView",
      "box_style": "",
      "children": [
       "IPY_MODEL_c56e6794e8214afb92e2843d8e593d82",
       "IPY_MODEL_24be14f1602e4213ba912b008b6c0c4b",
       "IPY_MODEL_5e8fdd0670db4a83ad8cfa06828a69c9"
      ],
      "layout": "IPY_MODEL_a4f641b2797d411687005a5031502e32"
     }
    },
    "b260acd2cf5e4212a24eefb4dcfe066c": {
     "model_module": "@jupyter-widgets/base",
     "model_module_version": "1.2.0",
     "model_name": "LayoutModel",
     "state": {
      "_model_module": "@jupyter-widgets/base",
      "_model_module_version": "1.2.0",
      "_model_name": "LayoutModel",
      "_view_count": null,
      "_view_module": "@jupyter-widgets/base",
      "_view_module_version": "1.2.0",
      "_view_name": "LayoutView",
      "align_content": null,
      "align_items": null,
      "align_self": null,
      "border": null,
      "bottom": null,
      "display": null,
      "flex": null,
      "flex_flow": null,
      "grid_area": null,
      "grid_auto_columns": null,
      "grid_auto_flow": null,
      "grid_auto_rows": null,
      "grid_column": null,
      "grid_gap": null,
      "grid_row": null,
      "grid_template_areas": null,
      "grid_template_columns": null,
      "grid_template_rows": null,
      "height": null,
      "justify_content": null,
      "justify_items": null,
      "left": null,
      "margin": null,
      "max_height": null,
      "max_width": null,
      "min_height": null,
      "min_width": null,
      "object_fit": null,
      "object_position": null,
      "order": null,
      "overflow": null,
      "overflow_x": null,
      "overflow_y": null,
      "padding": null,
      "right": null,
      "top": null,
      "visibility": null,
      "width": null
     }
    },
    "be463e38c644459e988eb632a896fc5b": {
     "model_module": "@jupyter-widgets/controls",
     "model_module_version": "1.5.0",
     "model_name": "ProgressStyleModel",
     "state": {
      "_model_module": "@jupyter-widgets/controls",
      "_model_module_version": "1.5.0",
      "_model_name": "ProgressStyleModel",
      "_view_count": null,
      "_view_module": "@jupyter-widgets/base",
      "_view_module_version": "1.2.0",
      "_view_name": "StyleView",
      "bar_color": null,
      "description_width": ""
     }
    },
    "c0e30624163c4ddd829f93bc5d5bbebb": {
     "model_module": "@jupyter-widgets/controls",
     "model_module_version": "1.5.0",
     "model_name": "DescriptionStyleModel",
     "state": {
      "_model_module": "@jupyter-widgets/controls",
      "_model_module_version": "1.5.0",
      "_model_name": "DescriptionStyleModel",
      "_view_count": null,
      "_view_module": "@jupyter-widgets/base",
      "_view_module_version": "1.2.0",
      "_view_name": "StyleView",
      "description_width": ""
     }
    },
    "c56e6794e8214afb92e2843d8e593d82": {
     "model_module": "@jupyter-widgets/controls",
     "model_module_version": "1.5.0",
     "model_name": "HTMLModel",
     "state": {
      "_dom_classes": [],
      "_model_module": "@jupyter-widgets/controls",
      "_model_module_version": "1.5.0",
      "_model_name": "HTMLModel",
      "_view_count": null,
      "_view_module": "@jupyter-widgets/controls",
      "_view_module_version": "1.5.0",
      "_view_name": "HTMLView",
      "description": "",
      "description_tooltip": null,
      "layout": "IPY_MODEL_8e204acc3756438eb6687f2240a1a1e0",
      "placeholder": "​",
      "style": "IPY_MODEL_c0e30624163c4ddd829f93bc5d5bbebb",
      "value": "100%"
     }
    }
   }
  }
 },
 "nbformat": 4,
 "nbformat_minor": 1
}
