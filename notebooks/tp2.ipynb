{
 "cells": [
  {
   "cell_type": "code",
   "execution_count": null,
   "metadata": {},
   "outputs": [],
   "source": [
    "import numpy as np\n",
    "\n",
    "def dist_coseno_matrix(X1, X2):\n",
    "    X1_norm = np.linalg.norm(X1, axis=1, keepdims=True)\n",
    "    X2_norm = np.linalg.norm(X2, axis=1, keepdims=True).T\n",
    "    dot_product = np.dot(X1, X2.T)\n",
    "    return 1 - dot_product / (X1_norm * X2_norm)\n",
    "\n",
    "\n",
    "class KNNClassifier:\n",
    "    def __init__(self, n_neighbors):\n",
    "        self.n_neighbors = n_neighbors\n",
    "\n",
    "    def fit(self, X, y):\n",
    "        self.train_x = X\n",
    "        self.labels = y\n",
    "\n",
    "    def predict(self, X):\n",
    "        distances = dist_coseno_matrix(X, self.train_x)\n",
    "        sorted_indices = np.argsort(distances, axis=1)\n",
    "        k_nearest_indices = sorted_indices[:,:self.n_neighbors]\n",
    "        k_nearest_labels = self.labels[k_nearest_indices]\n",
    "        moda = np.argmax(np.apply_along_axis(np.bincount, axis=1, arr=k_nearest_labels, minlength=k_nearest_labels.max()+1), axis=1)\n",
    "        return moda"
   ]
  }
 ],
 "metadata": {
  "language_info": {
   "name": "python"
  }
 },
 "nbformat": 4,
 "nbformat_minor": 2
}
